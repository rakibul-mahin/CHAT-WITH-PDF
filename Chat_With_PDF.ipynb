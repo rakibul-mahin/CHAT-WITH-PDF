{
 "cells": [
  {
   "cell_type": "code",
   "execution_count": 1,
   "id": "f8e055ee",
   "metadata": {},
   "outputs": [],
   "source": [
    "!pip -q install langchain openai tiktoken chromadb pypdf sentence_transformers InstructorEmbedding faiss-cpu"
   ]
  },
  {
   "cell_type": "code",
   "execution_count": 29,
   "id": "028dbf3d",
   "metadata": {},
   "outputs": [],
   "source": [
    "import os\n",
    "os.environ[\"OPENAI_API_KEY\"] = \"\"\n",
    "os.environ[\"HUGGINGFACEHUB_API_TOKEN\"] = \"\""
   ]
  },
  {
   "cell_type": "code",
   "execution_count": 27,
   "id": "ef940c48",
   "metadata": {},
   "outputs": [],
   "source": [
    "from langchain.vectorstores import Chroma\n",
    "from langchain.text_splitter import RecursiveCharacterTextSplitter\n",
    "from langchain.llms import OpenAI\n",
    "from langchain.chains import RetrievalQA\n",
    "from langchain.document_loaders import PyPDFLoader\n",
    "from langchain.document_loaders import DirectoryLoader\n",
    "from langchain.llms import HuggingFaceHub"
   ]
  },
  {
   "cell_type": "code",
   "execution_count": 4,
   "id": "8ed6f92d",
   "metadata": {},
   "outputs": [
    {
     "name": "stderr",
     "output_type": "stream",
     "text": [
      "C:\\Users\\learn\\anaconda3\\envs\\tf2.4\\lib\\site-packages\\tqdm\\auto.py:21: TqdmWarning: IProgress not found. Please update jupyter and ipywidgets. See https://ipywidgets.readthedocs.io/en/stable/user_install.html\n",
      "  from .autonotebook import tqdm as notebook_tqdm\n"
     ]
    }
   ],
   "source": [
    "# InstructorEmbedding \n",
    "from InstructorEmbedding import INSTRUCTOR\n",
    "from langchain.embeddings import HuggingFaceInstructEmbeddings"
   ]
  },
  {
   "cell_type": "code",
   "execution_count": 5,
   "id": "85f0a2a9",
   "metadata": {},
   "outputs": [],
   "source": [
    "# OpenAI Embedding\n",
    "from langchain.embeddings import OpenAIEmbeddings"
   ]
  },
  {
   "cell_type": "code",
   "execution_count": 6,
   "id": "3f5bdb11",
   "metadata": {},
   "outputs": [],
   "source": [
    "root_dir = \"./files\""
   ]
  },
  {
   "cell_type": "code",
   "execution_count": 7,
   "id": "406e073a",
   "metadata": {},
   "outputs": [],
   "source": [
    "loader = DirectoryLoader(f'{root_dir}/Documents/', glob=\"./*.pdf\", loader_cls=PyPDFLoader)\n",
    "documents = loader.load()"
   ]
  },
  {
   "cell_type": "code",
   "execution_count": 8,
   "id": "fa86a615",
   "metadata": {},
   "outputs": [],
   "source": [
    "text_splitter = RecursiveCharacterTextSplitter(\n",
    "                                               chunk_size=1000, \n",
    "                                               chunk_overlap=200)\n",
    "\n",
    "texts = text_splitter.split_documents(documents)"
   ]
  },
  {
   "cell_type": "code",
   "execution_count": 9,
   "id": "d114f546",
   "metadata": {},
   "outputs": [
    {
     "data": {
      "text/plain": [
       "Document(page_content='Pierre Bourdieu on Marriage Strategies\\nSource: Population and Development Review, Vol. 28, No. 3 (Sep., 2002), pp. 549-558 \\nPublished by: Population Council\\nStable URL: http://www.jstor.org/stable/3092841 .\\nAccessed: 06/02/2015 14:53\\nYour use of the JSTOR archive indicates your acceptance of the Terms & Conditions of Use, available at .\\nhttp://www.jstor.org/page/info/about/policies/terms.jsp\\n .\\nJSTOR is a not-for-profit service that helps scholars, researchers, and students discover, use, and build upon a wide range of\\ncontent in a trusted digital archive. We use information technology and tools to increase productivity and facilitate new forms\\nof scholarship. For more information about JSTOR, please contact support@jstor.org.\\n .\\nPopulation Council is collaborating with JSTOR to digitize, preserve and extend access to Population and\\nDevelopment Review.\\nhttp://www.jstor.org \\nThis content downloaded from 128.235.251.160 on Fri, 6 Feb 2015 14:53:22 PM', metadata={'source': 'files\\\\Documents\\\\On marriage strategies.pdf', 'page': 0})"
      ]
     },
     "execution_count": 9,
     "metadata": {},
     "output_type": "execute_result"
    }
   ],
   "source": [
    "texts[0]"
   ]
  },
  {
   "cell_type": "code",
   "execution_count": 10,
   "id": "394c923d",
   "metadata": {},
   "outputs": [
    {
     "data": {
      "text/plain": [
       "45"
      ]
     },
     "execution_count": 10,
     "metadata": {},
     "output_type": "execute_result"
    }
   ],
   "source": [
    "len(texts)"
   ]
  },
  {
   "cell_type": "code",
   "execution_count": 11,
   "id": "e278f1da",
   "metadata": {},
   "outputs": [],
   "source": [
    "import pickle\n",
    "import faiss\n",
    "from langchain.vectorstores import FAISS"
   ]
  },
  {
   "cell_type": "code",
   "execution_count": 12,
   "id": "1a2eff62",
   "metadata": {},
   "outputs": [],
   "source": [
    "def store_embeddings(docs, embeddings, sotre_name, path):\n",
    "    \n",
    "    vectorStore = FAISS.from_documents(docs, embeddings)\n",
    "\n",
    "    with open(f\"{path}/faiss_{sotre_name}.pkl\", \"wb\") as f:\n",
    "        pickle.dump(vectorStore, f)"
   ]
  },
  {
   "cell_type": "code",
   "execution_count": 13,
   "id": "268822ea",
   "metadata": {},
   "outputs": [],
   "source": [
    "def load_embeddings(sotre_name, path):\n",
    "    with open(f\"{path}/faiss_{sotre_name}.pkl\", \"rb\") as f:\n",
    "        VectorStore = pickle.load(f)\n",
    "    return VectorStore"
   ]
  },
  {
   "cell_type": "code",
   "execution_count": 14,
   "id": "f0f68f9d",
   "metadata": {},
   "outputs": [
    {
     "name": "stdout",
     "output_type": "stream",
     "text": [
      "load INSTRUCTOR_Transformer\n",
      "max_seq_length  512\n"
     ]
    }
   ],
   "source": [
    "from langchain.embeddings import HuggingFaceInstructEmbeddings\n",
    "\n",
    "instructor_embeddings = HuggingFaceInstructEmbeddings(model_name=\"hkunlp/instructor-xl\", \n",
    "                                                      model_kwargs={\"device\": \"cuda\"})"
   ]
  },
  {
   "cell_type": "code",
   "execution_count": 15,
   "id": "bf782727",
   "metadata": {},
   "outputs": [],
   "source": [
    "Embedding_store_path = f\"{root_dir}/Embedding_store\""
   ]
  },
  {
   "cell_type": "code",
   "execution_count": 16,
   "id": "fffdaa5f",
   "metadata": {},
   "outputs": [],
   "source": [
    "db_instructEmbedd = FAISS.from_documents(texts, instructor_embeddings)"
   ]
  },
  {
   "cell_type": "code",
   "execution_count": 17,
   "id": "4682237e",
   "metadata": {},
   "outputs": [],
   "source": [
    "retriever = db_instructEmbedd.as_retriever(search_kwargs={\"k\": 3})"
   ]
  },
  {
   "cell_type": "code",
   "execution_count": 18,
   "id": "0d41986e",
   "metadata": {},
   "outputs": [
    {
     "data": {
      "text/plain": [
       "'similarity'"
      ]
     },
     "execution_count": 18,
     "metadata": {},
     "output_type": "execute_result"
    }
   ],
   "source": [
    "retriever.search_type"
   ]
  },
  {
   "cell_type": "code",
   "execution_count": 19,
   "id": "4c823516",
   "metadata": {},
   "outputs": [
    {
     "data": {
      "text/plain": [
       "{'k': 3}"
      ]
     },
     "execution_count": 19,
     "metadata": {},
     "output_type": "execute_result"
    }
   ],
   "source": [
    "retriever.search_kwargs"
   ]
  },
  {
   "cell_type": "code",
   "execution_count": 22,
   "id": "55d6c17c",
   "metadata": {},
   "outputs": [],
   "source": [
    "docs = retriever.get_relevant_documents(\"whom should a modest girl marry?\")"
   ]
  },
  {
   "cell_type": "code",
   "execution_count": 23,
   "id": "79829fcc",
   "metadata": {},
   "outputs": [
    {
     "data": {
      "text/plain": [
       "Document(page_content='sister (or sisters) was quite different from that of one who had a brother (or \\nbrothers). All our informants have indicated that the adot of girls was al- \\nmost always higher than that of boys, so that their chances of marriage were \\ngreater. The reason, as we have seen, was that families had no choice but to \\nmarry off these useless mouths, and as quickly as possible. \\nIn the case of younger sons the strategies could be more complex, the \\nfirst reason being that an abundant, even superabundant, supply of labor \\nwill create a great desire for land that can only be beneficial to the patri- \\nmony. It follows that families were less anxious to marry off a younger son \\n(except, perhaps, the first of the younger sons in an important family) than \\na younger daughter or even an eldest son. One way would be to marry him \\nto an heiress, a course that was very normal and best suited to his own \\ninterests, though not necessarily to the interest of the lineage: If he married', metadata={'source': 'files\\\\Documents\\\\On marriage strategies.pdf', 'page': 7})"
      ]
     },
     "execution_count": 23,
     "metadata": {},
     "output_type": "execute_result"
    }
   ],
   "source": [
    "docs[0]"
   ]
  },
  {
   "cell_type": "code",
   "execution_count": 35,
   "id": "9bd40459",
   "metadata": {},
   "outputs": [],
   "source": [
    "# create the chain to answer questions \n",
    "qa_chain_instrucEmbed = RetrievalQA.from_chain_type(llm=HuggingFaceHub(repo_id=\"google/flan-t5-xxl\", model_kwargs={\"temperature\":0.5,\"max_length\":1000} ), \n",
    "                                  chain_type=\"stuff\", \n",
    "                                  retriever=retriever, \n",
    "                                  return_source_documents=True)"
   ]
  },
  {
   "cell_type": "code",
   "execution_count": 36,
   "id": "52ea83dc",
   "metadata": {},
   "outputs": [],
   "source": [
    "## Cite sources\n",
    "\n",
    "import textwrap\n",
    "\n",
    "def wrap_text_preserve_newlines(text, width=110):\n",
    "    # Split the input text into lines based on newline characters\n",
    "    lines = text.split('\\n')\n",
    "\n",
    "    # Wrap each line individually\n",
    "    wrapped_lines = [textwrap.fill(line, width=width) for line in lines]\n",
    "\n",
    "    # Join the wrapped lines back together using newline characters\n",
    "    wrapped_text = '\\n'.join(wrapped_lines)\n",
    "\n",
    "    return wrapped_text\n",
    "\n",
    "def process_llm_response(llm_response):\n",
    "    print(wrap_text_preserve_newlines(llm_response['result']))\n",
    "    print('\\nSources:')\n",
    "    for source in llm_response[\"source_documents\"]:\n",
    "        print(source.metadata['source'])"
   ]
  },
  {
   "cell_type": "code",
   "execution_count": 43,
   "id": "5fb8dc88",
   "metadata": {},
   "outputs": [
    {
     "name": "stdout",
     "output_type": "stream",
     "text": [
      "-------------------Instructor Embeddings------------------\n",
      "\n",
      "younger daughter of an important family\n",
      "\n",
      "Sources:\n",
      "files\\Documents\\On marriage strategies.pdf\n",
      "files\\Documents\\On marriage strategies.pdf\n",
      "files\\Documents\\On marriage strategies.pdf\n"
     ]
    }
   ],
   "source": [
    "query = 'whom should important family son marry?'\n",
    "\n",
    "print('-------------------Instructor Embeddings------------------\\n')\n",
    "llm_response = qa_chain_instrucEmbed(query)\n",
    "process_llm_response(llm_response)"
   ]
  },
  {
   "cell_type": "code",
   "execution_count": null,
   "id": "53a2ac4e",
   "metadata": {},
   "outputs": [],
   "source": []
  }
 ],
 "metadata": {
  "kernelspec": {
   "display_name": "tf2.4",
   "language": "python",
   "name": "tf2.4"
  },
  "language_info": {
   "codemirror_mode": {
    "name": "ipython",
    "version": 3
   },
   "file_extension": ".py",
   "mimetype": "text/x-python",
   "name": "python",
   "nbconvert_exporter": "python",
   "pygments_lexer": "ipython3",
   "version": "3.8.13"
  }
 },
 "nbformat": 4,
 "nbformat_minor": 5
}
